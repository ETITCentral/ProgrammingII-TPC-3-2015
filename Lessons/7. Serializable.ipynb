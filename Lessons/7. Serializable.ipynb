{
 "cells": [
  {
   "cell_type": "markdown",
   "metadata": {},
   "source": [
    "# <a id='toc1_'></a>[Manejo de Serialización y Archivos en Java](#toc0_)\n",
    "\n",
    "<a href=\"https://colab.research.google.com/github/uETITC/ProgrammingII-2024-2/blob/main/Lessons/7.%20Serializable.ipynb\" target=\"_parent\"><img src=\"https://colab.research.google.com/assets/colab-badge.svg\" alt=\"Open In Colab\"/></a>\n",
    "\n",
    "---\n",
    "\n",
    "### **Tabla de Contenidos (ToC)**<a id='toc0_'></a>    \n",
    "- [Manejo de Serialización y Archivos en Java](#toc1_)    \n",
    "  - [Introducción](#toc1_1_)    \n",
    "  - [Objetivos](#toc1_2_)    \n",
    "  - [Manejo de Archivos en Java](#toc1_3_)    \n",
    "    - [Lectura y Escritura de Archivos](#toc1_3_1_)    \n",
    "    - [BufferedInputStream/BufferedOutputStream](#toc1_3_2_)    \n",
    "    - [Ejemplo de escritura en archivo](#toc1_3_3_)    \n",
    "  - [Clases de E/S Binarios](#toc1_4_)    \n",
    "  - [FileInputStream/FileOutputStream](#toc1_5_)    \n",
    "    - [Ejemplo de lectura de archivo](#toc1_5_1_)    \n",
    "  - [Serialización en Java](#toc1_6_)    \n",
    "    - [Ejemplo básico de serialización](#toc1_6_1_)    \n",
    "  - [Deserialización en Java](#toc1_7_)    \n",
    "    - [Ejemplo básico de deserialización](#toc1_7_1_)    \n",
    "  - [DataInputStream/DataOutputStream](#toc1_8_)    \n",
    "  - [E/S de Texto vs a E/S Binaria](#toc1_9_)    \n",
    "  - [Ejercicio práctico: Serialización y manejo de archivos](#toc1_10_)    \n",
    "    - [Primera Parte](#toc1_10_1_)    \n",
    "    - [Ejemplo de clase `Libro`](#toc1_10_2_)    \n",
    "    - [Segunda Parte](#toc1_10_3_)    \n",
    "    - [Tercera Parte](#toc1_10_4_)    \n",
    "    - [Cuarta Parte](#toc1_10_5_)    \n",
    "  - [Conclusión](#toc1_11_)    \n",
    "  - [Referencias](#toc1_12_)    \n",
    "    - [Libros](#toc1_12_1_)    \n",
    "    - [Guias y Tutoriales](#toc1_12_2_)    \n",
    "    - [Videos](#toc1_12_3_)    \n",
    "\n",
    "<!-- vscode-jupyter-toc-config\n",
    "  numbering=false\n",
    "  anchor=true\n",
    "  flat=false\n",
    "  minLevel=1\n",
    "  maxLevel=6\n",
    "  /vscode-jupyter-toc-config -->\n",
    "<!-- THIS CELL WILL BE REPLACED ON TOC UPDATE. DO NOT WRITE YOUR TEXT IN THIS CELL -->\n",
    "\n",
    "---\n",
    "\n",
    "## <a id='toc1_1_'></a>[Introducción](#toc0_)\n",
    "\n",
    "En el manejo de datos, es común encontrarse con la necesidad de guardar y recuperar información de manera eficiente. Para lograr esto, Java proporciona herramientas para **serialización** y manejo de **archivos**. La **serialización** permite convertir un objeto en una secuencia de bytes para almacenarlo o transmitirlo, mientras que el manejo de archivos permite leer y escribir datos de archivos en el sistema.\n",
    "\n",
    "Esta clase explorará en detalle los conceptos fundamentales de serialización, **deserialización**, y operaciones de archivos en Java, proporcionando ejemplos prácticos para entender su funcionamiento.\n",
    "\n",
    "## <a id='toc1_2_'></a>[Objetivos](#toc0_)\n",
    "\n",
    "1. Comprender el concepto de **serialización** en Java y su importancia en el almacenamiento y transmisión de objetos.\n",
    "2. Aplicar operaciones de **serialización** y **deserialización** en objetos de Java.\n",
    "3. Entender el manejo de **archivos** en Java, incluyendo la lectura y escritura de archivos.\n",
    "4. Implementar ejemplos prácticos que combinen la serialización y manejo de archivos en Java.\n"
   ]
  },
  {
   "cell_type": "markdown",
   "metadata": {},
   "source": [
    "## <a id='toc1_3_'></a>[Manejo de Archivos en Java](#toc0_)\n",
    "\n",
    "### <a id='toc1_3_1_'></a>[Lectura y Escritura de Archivos](#toc0_)\n",
    "\n",
    "Java proporciona varias clases para trabajar con archivos, como `FileInputStream`, `FileOutputStream`, `BufferedReader`, y `BufferedWriter`. A este proceso se le suele conocer por E/S de Texto (Text I/O)\n",
    "\n",
    "**¿Cómo Java lee y escribe archivos?**\n",
    "<div align=\"center\">\n",
    "  <img src=\"./images/Figure17.1.png\" width=60%>\n",
    "</div>\n",
    "\n",
    "**Texto vs Binarios**\n",
    "<div align=\"center\">\n",
    "  <img src=\"./images/Figure17.2.png\" width=60%>\n",
    "</div>\n",
    "\n",
    "### <a id='toc1_3_2_'></a>[BufferedInputStream/BufferedOutputStream](#toc0_)\n",
    "\n",
    "`BufferedInputStream`/`BufferedOutputStream` puede utilizarse para acelerar la entrada y salida reduciendo el número de lecturas y escrituras en disco. Con `BufferedInputStream`, todo el bloque de datos del disco se lee una vez en el búfer de la memoria. Los datos individuales son entonces cargados a tu programa desde el buffer, como se muestra en la Figura 17.12a. Usando `BufferedOutputStream`, los datos individuales se escriben primero en el buffer de la memoria. Cuando el buffer está lleno, todos los datos en el buffer se escriben en el disco una vez, como se muestra en la Figura 17.12b.\n",
    "\n",
    "<div align=\"center\">\n",
    "  <img src=\"./images/Figure17.12.png\" width=60%>\n",
    "</div>\n",
    "\n",
    "<div align=\"center\">\n",
    "  <img src=\"./images/Figure17.14.png\" width=60%>\n",
    "</div>"
   ]
  },
  {
   "cell_type": "code",
   "execution_count": 27,
   "metadata": {
    "vscode": {
     "languageId": "java"
    }
   },
   "outputs": [],
   "source": [
    "DataOutputStream output = new DataOutputStream(new BufferedOutputStream(new FileOutputStream(\"temp.dat\")));"
   ]
  },
  {
   "cell_type": "markdown",
   "metadata": {},
   "source": [
    "Esta clase es muy completa y robusta, sin embargo, usarla requiere de experticie. Además de esta gran clase, existen otras formas, métodos y clases, que permiten hacer la escritura y lectura de archivos de forma más amigable `BufferedReader` y `BufferedWriter`.\n",
    "\n",
    "<div align=\"center\">\n",
    "  <img src=\"https://cdn.codegym.cc/images/article/d0cf56c5-a505-40de-832c-21a075110e77/800.webp\" width=60%>\n",
    "</div>\n",
    "\n",
    "\n",
    "### <a id='toc1_3_3_'></a>[Ejemplo de escritura en archivo](#toc0_)"
   ]
  },
  {
   "cell_type": "code",
   "execution_count": 28,
   "metadata": {
    "vscode": {
     "languageId": "java"
    }
   },
   "outputs": [],
   "source": [
    "import java.io.*;\n",
    "\n",
    "public class EscrituraArchivo {\n",
    "    public static void main(String[] args) {\n",
    "        try (BufferedWriter writer = new BufferedWriter(new FileWriter(\"archivo.txt\"))) {\n",
    "            writer.write(\"Este es un ejemplo de escritura en un archivo.\");\n",
    "            System.out.println(\"Texto escrito en el archivo.\");\n",
    "        } catch (IOException e) {\n",
    "            e.printStackTrace();\n",
    "        }\n",
    "    }\n",
    "}"
   ]
  },
  {
   "cell_type": "code",
   "execution_count": 29,
   "metadata": {
    "vscode": {
     "languageId": "java"
    }
   },
   "outputs": [],
   "source": [
    "// Prueba el texto aquí"
   ]
  },
  {
   "cell_type": "markdown",
   "metadata": {},
   "source": [
    "Existen muchas clases de E/S para diversos fines. En general, se pueden clasificar en clases de entrada y clases de salida. Una clase de entrada contiene los métodos para leer datos, y una clase de salida contiene los métodos para escribir datos. `PrintWriter` es un ejemplo de una clase de salida que suele utilizar mucho para escribir archivos de html o css para páginas web, y `Scanner` es un ejemplo de una clase de entrada. El siguiente código crea un objeto de entrada para el archivo temp.txt y lee datos del archivo:\n"
   ]
  },
  {
   "cell_type": "code",
   "execution_count": 30,
   "metadata": {
    "vscode": {
     "languageId": "java"
    }
   },
   "outputs": [],
   "source": [
    "PrintWriter output = new PrintWriter(\"temp.txt\");\n",
    "\n",
    "output.print(\"Java 101\");\n",
    "output.print(\"Java 102\");\n",
    "output.close();"
   ]
  },
  {
   "cell_type": "code",
   "execution_count": 31,
   "metadata": {
    "vscode": {
     "languageId": "java"
    }
   },
   "outputs": [
    {
     "name": "stdout",
     "output_type": "stream",
     "text": [
      "Java 101Java 102\n"
     ]
    }
   ],
   "source": [
    "// Leer el archivo utilizando Scanner\n",
    "Scanner input = new Scanner(new File(\"temp.txt\"));\n",
    "System.out.println(input.nextLine());"
   ]
  },
  {
   "cell_type": "markdown",
   "metadata": {},
   "source": [
    "## <a id='toc1_4_'></a>[Clases de E/S Binarios](#toc0_)\n",
    "\n",
    ">El InputStream abstracto es la clase raíz para la lectura de datos binarios, y el OutputStream abstracto es la clase raíz para la escritura de datos binarios.\n",
    "\n",
    "<div align=\"center\">\n",
    "  <img src=\"./images/Figure17.4.png\" width=80%>\n",
    "</div>\n",
    "\n",
    "<div align=\"center\">\n",
    "  <img src=\"./images/Figure17.5.png\" width=80%>\n",
    "</div>\n",
    "\n",
    "## <a id='toc1_5_'></a>[FileInputStream/FileOutputStream](#toc0_)\n",
    "\n",
    "`FileInputStream`/`FileOutputStream` son para leer/escribir bytes de/a archivos. Todos los métodos de estas clases se heredan de `InputStream` y `OutputStream`. `FileInputStream`/`FileOutputStream` no introducen nuevos métodos. Para construir un `FileInputStream`, utilice los constructores mostrados en la Figura 17.6. Se producirá una `java.io.FileNotFoundException` si se intenta crear un `FileInputStream` con un fichero inexistente.\n",
    "\n",
    "<div align=\"center\">\n",
    "  <img src=\"./images/Figure17.6.png\" width=80%>\n",
    "</div>\n",
    "\n",
    "<div align=\"center\">\n",
    "  <img src=\"./images/Figure17.7.png\" width=80%>\n",
    "</div>\n",
    "\n",
    "\n",
    "\n",
    ">Los datos de texto se leen con la clase `Scanner` y se escriben con la clase `PrintWriter`."
   ]
  },
  {
   "cell_type": "code",
   "execution_count": 32,
   "metadata": {
    "vscode": {
     "languageId": "java"
    }
   },
   "outputs": [],
   "source": [
    "DataInputStream input = new DataInputStream(new BufferedInputStream(new FileInputStream(\"temp.dat\")));"
   ]
  },
  {
   "cell_type": "code",
   "execution_count": 33,
   "metadata": {
    "vscode": {
     "languageId": "java"
    }
   },
   "outputs": [],
   "source": [
    "import java.io.*;\n",
    "public class TestFileStream {\n",
    "  public static void main(String[] args) throws IOException {\n",
    "    try (\n",
    "      // Create an output stream to the file\n",
    "      FileOutputStream output = new FileOutputStream(\"temp.dat\"); // output stream\n",
    "    ) {\n",
    "      // Output values to the file\n",
    "      for (int i = 1; i <= 10; i++)\n",
    "      output.write(i);\n",
    "    }\n",
    "    try (\n",
    "      // Create an input stream for the file\n",
    "      FileInputStream input = new FileInputStream(\"temp.dat\"); // input stream\n",
    "    ) {\n",
    "      // Read values from the file\n",
    "      int value;\n",
    "      while ((value = input.read()) != -1) // input\n",
    "      System.out.print(value + \" \");\n",
    "    }\n",
    "  }\n",
    "}"
   ]
  },
  {
   "cell_type": "code",
   "execution_count": 34,
   "metadata": {
    "vscode": {
     "languageId": "java"
    }
   },
   "outputs": [],
   "source": [
    "// Prueba el código aquí"
   ]
  },
  {
   "cell_type": "markdown",
   "metadata": {},
   "source": [
    "### <a id='toc1_5_1_'></a>[Ejemplo de lectura de archivo](#toc0_)\n",
    "\n",
    "<div align=\"center\">\n",
    "  <img src=\"./images/Figure17.13.png\" width=60%>\n",
    "</div>"
   ]
  },
  {
   "cell_type": "code",
   "execution_count": 35,
   "metadata": {
    "vscode": {
     "languageId": "java"
    }
   },
   "outputs": [],
   "source": [
    "DataInputStream input = new DataInputStream(new BufferedInputStream(new FileInputStream(\"temp.dat\")));"
   ]
  },
  {
   "cell_type": "code",
   "execution_count": 36,
   "metadata": {
    "vscode": {
     "languageId": "java"
    }
   },
   "outputs": [],
   "source": [
    "import java.io.*;\n",
    "\n",
    "public class LecturaArchivo {\n",
    "    public static void main(String[] args) {\n",
    "        try (BufferedReader reader = new BufferedReader(new FileReader(\"archivo.txt\"))) {\n",
    "            String linea;\n",
    "            while ((linea = reader.readLine()) != null) {\n",
    "                System.out.println(linea);\n",
    "            }\n",
    "        } catch (IOException e) {\n",
    "            e.printStackTrace();\n",
    "        }\n",
    "    }\n",
    "}"
   ]
  },
  {
   "cell_type": "code",
   "execution_count": 37,
   "metadata": {
    "vscode": {
     "languageId": "java"
    }
   },
   "outputs": [],
   "source": [
    "// Prueba el texto aquí"
   ]
  },
  {
   "cell_type": "markdown",
   "metadata": {},
   "source": [
    "## <a id='toc1_6_'></a>[Serialización en Java](#toc0_)\n",
    "\n",
    "La **serialización** es el proceso de convertir un objeto en una secuencia de bytes, lo que permite que se almacene o se envíe a través de una red. En Java, para que un objeto sea serializable, la clase debe implementar la interfaz `Serializable`.\n",
    "\n",
    "No todos los objetos pueden escribirse en un flujo de salida. Los objetos que pueden ser escritos se dice que son serializables. Un objeto serializable es una instancia de la interfaz java.io.Serializable, por lo que la clase del objeto debe implementar Serializable.\n",
    "\n",
    "La interfaz Serializable es una interfaz marcadora. Como no tiene métodos, no necesitas añadir código adicional en tu clase que implemente Serializable. La implementación de esta interfaz permite que el mecanismo de serialización de Java para automatizar el proceso de almacenamiento de objetos y matrices.\n",
    "\n",
    "**Clases y Objetos**\n",
    "\n",
    "<div align=\"center\">\n",
    "  <img src=\"./images/Figure17.3.png\" width=60%>\n",
    "</div>\n",
    "\n",
    "<div align=\"center\">\n",
    "  <img src=\"./images/Figure17.17.png\" width=60%>\n",
    "</div>\n",
    "\n"
   ]
  },
  {
   "cell_type": "code",
   "execution_count": 38,
   "metadata": {
    "vscode": {
     "languageId": "java"
    }
   },
   "outputs": [],
   "source": [
    "import java.io.*;\n",
    "public class TestObjectOutputStream {\n",
    "  public static void main(String[] args) throws IOException {\n",
    "    try ( // Create an output stream for file object.dat\n",
    "      ObjectOutputStream output = new ObjectOutputStream(new FileOutputStream(\"object.dat\"));\n",
    "      // Se puede reemplazar y mejorar el rendimiento con\n",
    "      // ObjectOutputStream output = new ObjectOutputStream(new BufferedOutputStream(new FileOutputStream(\"object.dat\")));\n",
    "    ) {\n",
    "      // Write a string, double value, and object to the file\n",
    "      output.writeUTF(\"John\");\n",
    "      output.writeDouble(85.5);\n",
    "      output.writeObject(new java.util.Date());\n",
    "    }\n",
    "  }\n",
    "}"
   ]
  },
  {
   "cell_type": "markdown",
   "metadata": {},
   "source": [
    "### <a id='toc1_6_1_'></a>[Ejemplo básico de serialización](#toc0_)"
   ]
  },
  {
   "cell_type": "code",
   "execution_count": 39,
   "metadata": {
    "vscode": {
     "languageId": "java"
    }
   },
   "outputs": [],
   "source": [
    "import java.io.*;\n",
    "\n",
    "// Clase que implementa Serializable\n",
    "class Persona implements Serializable {\n",
    "    private String nombre;\n",
    "    private int edad;\n",
    "\n",
    "    public Persona(String nombre, int edad) {\n",
    "        this.nombre = nombre;\n",
    "        this.edad = edad;\n",
    "    }\n",
    "\n",
    "    @Override\n",
    "    public String toString() {\n",
    "        return \"Nombre: \" + nombre + \", Edad: \" + edad;\n",
    "    }\n",
    "}\n",
    "\n",
    "public class SerializacionEjemplo {\n",
    "    public static void main(String[] args) {\n",
    "        Persona persona = new Persona(\"Juan\", 30);\n",
    "\n",
    "        // Serializar el objeto\n",
    "        try (ObjectOutputStream oos = new ObjectOutputStream(new FileOutputStream(\"persona.ser\"))) {\n",
    "            oos.writeObject(persona);\n",
    "            System.out.println(\"Objeto serializado correctamente.\");\n",
    "        } catch (IOException e) {\n",
    "            e.printStackTrace();\n",
    "        }\n",
    "    }\n",
    "}"
   ]
  },
  {
   "cell_type": "markdown",
   "metadata": {},
   "source": [
    "En este ejemplo, la clase `Persona` implementa `Serializable`, lo que permite que los objetos de esa clase puedan ser serializados. El archivo `persona.ser` contendrá la información del objeto en formato de bytes."
   ]
  },
  {
   "cell_type": "code",
   "execution_count": 40,
   "metadata": {
    "vscode": {
     "languageId": "java"
    }
   },
   "outputs": [],
   "source": [
    "// Prueba el texto aquí"
   ]
  },
  {
   "cell_type": "markdown",
   "metadata": {},
   "source": [
    "Para verificar su impacto en otro tipo de objetos que contienen elementos de diferente tipo de dato (arreglos, pilas, colas, etc) probemos la serialización de listas.\n",
    "\n",
    "Implementa y prueba el código **Listing 17.7 TestObjectStreamForArray.java** del libro guía, página dccxxxiii o 710."
   ]
  },
  {
   "cell_type": "code",
   "execution_count": 41,
   "metadata": {
    "vscode": {
     "languageId": "java"
    }
   },
   "outputs": [],
   "source": [
    "// Implementa la clase TestObjectStreamForArray"
   ]
  },
  {
   "cell_type": "markdown",
   "metadata": {},
   "source": [
    "## <a id='toc1_7_'></a>[Deserialización en Java](#toc0_)\n",
    "\n",
    "La **deserialización** es el proceso inverso de la serialización, donde una secuencia de bytes se convierte de nuevo en un objeto Java.\n",
    "\n",
    "<div align=\"center\">\n",
    "  <img src=\"./images/Figure17.16.png\" width=60%>\n",
    "</div>\n"
   ]
  },
  {
   "cell_type": "code",
   "execution_count": 42,
   "metadata": {
    "vscode": {
     "languageId": "java"
    }
   },
   "outputs": [],
   "source": [
    "import java.io.*;\n",
    "public class TestObjectInputStream {\n",
    "  public static void main(String[] args)\n",
    "  throws ClassNotFoundException, IOException {\n",
    "    try ( // Create an input stream for file object.dat\n",
    "      ObjectInputStream input = new ObjectInputStream(new FileInputStream(\"object.dat\"));\n",
    "    ) {\n",
    "      // Read a string, double value, and object from the file\n",
    "      String name = input.readUTF();\n",
    "      double score = input.readDouble();\n",
    "      java.util.Date date = (java.util.Date)(input.readObject());\n",
    "      System.out.println(name + \" \" + score + \" \" + date);\n",
    "    }\n",
    "  }\n",
    "}"
   ]
  },
  {
   "cell_type": "markdown",
   "metadata": {},
   "source": [
    "### <a id='toc1_7_1_'></a>[Ejemplo básico de deserialización](#toc0_)"
   ]
  },
  {
   "cell_type": "code",
   "execution_count": 43,
   "metadata": {
    "vscode": {
     "languageId": "java"
    }
   },
   "outputs": [],
   "source": [
    "import java.io.*;\n",
    "\n",
    "public class DeserializacionEjemplo {\n",
    "    public static void main(String[] args) {\n",
    "        // Deserializar el objeto\n",
    "        try (ObjectInputStream ois = new ObjectInputStream(new FileInputStream(\"persona.ser\"))) {\n",
    "            Persona persona = (Persona) ois.readObject();\n",
    "            System.out.println(\"Objeto deserializado: \" + persona);\n",
    "        } catch (IOException | ClassNotFoundException e) {\n",
    "            e.printStackTrace();\n",
    "        }\n",
    "    }\n",
    "}"
   ]
  },
  {
   "cell_type": "markdown",
   "metadata": {},
   "source": [
    "En este ejemplo, el archivo `persona.ser` se lee y el objeto `persona` se reconstruye a partir de los bytes guardados."
   ]
  },
  {
   "cell_type": "markdown",
   "metadata": {},
   "source": [
    "## <a id='toc1_8_'></a>[DataInputStream/DataOutputStream](#toc0_)\n",
    "\n",
    "`DataInputStream` lee bytes del flujo y los convierte en valores de tipo primitivo o cadenas. `DataOutputStream` convierte valores de tipo primitivo o cadenas en bytes y envía los bytes al flujo.\n",
    "\n",
    "`DataInputStream` extiende `FilterInputStream` e implementa la interfaz `DataInput`. `DataOutputStream` extiende` FilterOutputStream` e implementa la interfaz `DataOutput`.\n",
    "\n",
    "<div align=\"center\">\n",
    "  <img src=\"./images/Figure17.9.png\" width=60%>\n",
    "</div>\n",
    "\n",
    "\n",
    "<div align=\"center\">\n",
    "  <img src=\"./images/Figure17.10.png\" width=60%>\n",
    "</div>\n",
    "\n",
    "\n",
    "<div align=\"center\">\n",
    "  <img src=\"./images/Figure17.11.png\" width=60%>\n",
    "</div>"
   ]
  },
  {
   "cell_type": "code",
   "execution_count": 44,
   "metadata": {
    "vscode": {
     "languageId": "java"
    }
   },
   "outputs": [],
   "source": [
    "// Prueba el texto aquí"
   ]
  },
  {
   "cell_type": "markdown",
   "metadata": {},
   "source": [
    "## <a id='toc1_9_'></a>[E/S de Texto vs a E/S Binaria](#toc0_)\n",
    "\n",
    ">La E/S binaria no implica codificación ni descodificación, por lo que es más eficiente que la E/S de texto.\n",
    "\n",
    "Los ordenadores no distinguen entre archivos binarios y archivos de texto. Todos los archivos se almacenan en formato binario y, por tanto, todos los archivos son esencialmente binarios. La E/S de texto se basa en la E/S binaria para proporcionar un nivel de abstracción para la codificación y descodificación de caracteres. La codificación y descodificación se realizan automáticamente para la E/S de texto.\n",
    "\n",
    "<div align=\"center\">\n",
    "  <img src=\"\" width=80%>\n",
    "</div>\n",
    "\n",
    ">La clase abstracta `InputStream` es la clase raíz para la lectura de datos binarios, y la clase abstracta `OutputStream` es la clase raíz para escribir datos binarios.\n",
    "\n",
    "El diseño de las clases de E/S de Java es un buen ejemplo de aplicación de la herencia, donde las operaciones comunes se generalizan en superclases, y las subclases proporcionan operaciones especializadas.\n",
    "\n",
    "<div align=\"center\">\n",
    "  <img src=\"\" width=80%>\n",
    "</div>\n",
    "\n"
   ]
  },
  {
   "cell_type": "code",
   "execution_count": 45,
   "metadata": {
    "vscode": {
     "languageId": "java"
    }
   },
   "outputs": [],
   "source": [
    "import java.io.*;\n",
    "public class TestDataStream {\n",
    "  public static void main(String[] args) throws IOException {\n",
    "    try ( // Create an output stream for file temp.dat\n",
    "      DataOutputStream output = new DataOutputStream(new FileOutputStream(\"temp.dat\"));\n",
    "    ) {\n",
    "      // Write student test scores to the file\n",
    "      output.writeUTF(\"John\");\n",
    "      output.writeDouble(85.5);\n",
    "      output.writeUTF(\"Susan\");\n",
    "      output.writeDouble(185.5);\n",
    "      output.writeUTF(\"Kim\");\n",
    "      output.writeDouble(105.25);\n",
    "    }\n",
    "    try ( // Create an input stream for file temp.dat\n",
    "    DataInputStream input = new DataInputStream(new FileInputStream(\"temp.dat\"));\n",
    "    ) {\n",
    "      // Read student test scores from the file\n",
    "      System.out.println(input.readUTF() + \" \" + input.readDouble());\n",
    "      System.out.println(input.readUTF() + \" \" + input.readDouble());\n",
    "      System.out.println(input.readUTF() + \" \" + input.readDouble());\n",
    "    }\n",
    "  }\n",
    "}"
   ]
  },
  {
   "cell_type": "code",
   "execution_count": 46,
   "metadata": {
    "vscode": {
     "languageId": "java"
    }
   },
   "outputs": [],
   "source": [
    "// Prueba el texto aquí"
   ]
  },
  {
   "cell_type": "markdown",
   "metadata": {},
   "source": [
    "## <a id='toc1_10_'></a>[Ejercicio práctico: Serialización y manejo de archivos](#toc0_)\n",
    "\n",
    "### <a id='toc1_10_1_'></a>[Primera Parte](#toc0_)\n",
    "\n",
    "1. Crea una clase `Libro` que tenga los siguientes atributos: título, autor y año de publicación. Implementa la interfaz `Serializable`.\n",
    "2. Serializa varios objetos `Libro` y guárdalos en un archivo llamado `libros.ser` o `libro.dat`.\n",
    "3. Deserializa los objetos `Libro` del archivo y muéstralos en la consola.\n",
    "4. Lee el contenido de un archivo de texto llamado `instrucciones.txt` que contenga una descripción de cómo utilizar el programa.\n",
    "\n",
    "### <a id='toc1_10_2_'></a>[Ejemplo de clase `Libro`](#toc0_)"
   ]
  },
  {
   "cell_type": "code",
   "execution_count": 47,
   "metadata": {
    "vscode": {
     "languageId": "java"
    }
   },
   "outputs": [],
   "source": [
    "// Implementa tu código aquí"
   ]
  },
  {
   "cell_type": "markdown",
   "metadata": {},
   "source": [
    "### <a id='toc1_10_3_'></a>[Segunda Parte](#toc0_)\n",
    "\n",
    "Modifica el ejercicio anterior para que el archivo `libros.ser` almacene una lista de libros utilizando la clase `ArrayList<Libro>`. Serializa y deserializa la lista completa de libros."
   ]
  },
  {
   "cell_type": "code",
   "execution_count": 48,
   "metadata": {
    "vscode": {
     "languageId": "java"
    }
   },
   "outputs": [],
   "source": [
    "// Implementa tu código aquí"
   ]
  },
  {
   "cell_type": "markdown",
   "metadata": {},
   "source": [
    "### <a id='toc1_10_4_'></a>[Tercera Parte](#toc0_)\n",
    "\n",
    "Implementa y prueba el código del libro guía, Y. Daniel, que copia archivos, código 17.4 `Copy.java.`. **Deben modificar la acción de la clase para que no sea la misma del libro, cambiar y agregar algunas líneas de código.**"
   ]
  },
  {
   "cell_type": "code",
   "execution_count": 49,
   "metadata": {
    "vscode": {
     "languageId": "java"
    }
   },
   "outputs": [],
   "source": [
    "// Implementa tu código aquí"
   ]
  },
  {
   "cell_type": "markdown",
   "metadata": {},
   "source": [
    "### <a id='toc1_10_5_'></a>[Cuarta Parte](#toc0_)\n",
    "Implementa y prueba el código del libro guía, Y. Daniel, que implementa el Acceso aleatorio de archivos, código 17.8 `ImpTestRandomAccessFile.java`. **Deben modificar la acción de la clase para que no sea la misma del libro, cambiar y agregar algunas líneas de código.**"
   ]
  },
  {
   "cell_type": "code",
   "execution_count": 50,
   "metadata": {
    "vscode": {
     "languageId": "java"
    }
   },
   "outputs": [],
   "source": [
    "// Implementa tu código aquí"
   ]
  },
  {
   "cell_type": "markdown",
   "metadata": {},
   "source": [
    "\n",
    "## <a id='toc1_11_'></a>[Conclusión](#toc0_)\n",
    "\n",
    "La serialización y el manejo de archivos son fundamentales para el desarrollo de aplicaciones en Java que requieren persistencia y comunicación de datos. La **serialización** permite convertir objetos en secuencias de bytes, facilitando su almacenamiento en archivos o su transmisión a través de redes. Esta técnica es clave cuando se necesita mantener el estado de un objeto más allá de la ejecución de un programa. Por otro lado, el **manejo de archivos** permite leer y escribir datos desde y hacia archivos, lo cual es esencial para cualquier aplicación que interactúe con sistemas de almacenamiento. \n",
    "\n",
    "Dominar estas técnicas no solo mejora la capacidad de un programador para crear aplicaciones que gestionen datos de manera efectiva, sino que también le permite construir soluciones más robustas y eficientes, asegurando que los datos persistan entre ejecuciones y que puedan ser transferidos entre diferentes sistemas de forma segura y controlada.\n",
    "\n",
    "## <a id='toc1_12_'></a>[Referencias](#toc0_)\n",
    "\n",
    "### <a id='toc1_12_1_'></a>[Libros](#toc0_)\n",
    "\n",
    "- Y. Daniel Liang. *\"Introduction to Java Programming and Data Structures, Comprehensive Version\"*. Addison Wesley. Edición 12 (2019). Capítulo 17.\n",
    "- Bloch, Joshua. *Effective Java*. Addison-Wesley, 2008.\n",
    "- Eckel, Bruce. *Thinking in Java*. Prentice Hall, 2006.\n",
    "\n",
    "\n",
    "### <a id='toc1_12_2_'></a>[Guias y Tutoriales](#toc0_)\n",
    "\n",
    "- [Tutorial 09: Java Stream I/O ](https://www.clear.rice.edu/comp212/00-fall/tutorials/09/io.html)\n",
    "- [BufferedReader and BufferedWriter](https://codegym.cc/groups/posts/bufferedreader-and-bufferedwriter)\n",
    "- [Serialization and Deserialization in Java - Javatpoint](https://www.javatpoint.com/serialization-in-java)\n",
    "- [Serialization in Java - Java Serialization - DigitalOcean](https://www.digitalocean.com/community/tutorials/serialization-in-java)\n",
    "- [Introduction to Java Serialization - Baeldung](https://www.baeldung.com/java-serialization)\n",
    "\n",
    "### <a id='toc1_12_3_'></a>[Videos](#toc0_)\n",
    "\n",
    "- [Serialization Explained in 3 minutes | Tech Primers ](https://www.youtube.com/watch?v=QOKlY37XpEA)\n",
    "- [SERIALIZABLE en JAVA - Tutorial Completo Fácil ](https://www.youtube.com/watch?v=EX0_plIjumM)"
   ]
  }
 ],
 "metadata": {
  "kernelspec": {
   "display_name": "Java",
   "language": "java",
   "name": "java"
  },
  "language_info": {
   "codemirror_mode": "java",
   "file_extension": ".jshell",
   "mimetype": "text/x-java-source",
   "name": "Java",
   "pygments_lexer": "java",
   "version": "21.0.4+7-Ubuntu-1ubuntu224.04"
  }
 },
 "nbformat": 4,
 "nbformat_minor": 2
}
