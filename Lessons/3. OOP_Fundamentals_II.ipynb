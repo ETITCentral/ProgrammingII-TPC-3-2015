{
  "cells": [
    {
      "cell_type": "markdown",
      "metadata": {
        "id": "g-qSxhERcX2x"
      },
      "source": [
        "<h1><center><b>Introducción a Java II</b></center></h1>\n",
        "\n",
        "---\n"
      ]
    },
    {
      "cell_type": "markdown",
      "metadata": {},
      "source": [
        "**Table of contents**<a id='toc0_'></a>    \n",
        "- [Objetivo](#toc1_1_)    \n",
        "  - [Clases Abstractas en Java](#toc1_2_)    \n",
        "    - [Definición](#toc1_2_1_)    \n",
        "    - [Ejercicio Práctico](#toc1_2_2_)    \n",
        "  - [Interfaces en Java](#toc1_3_)    \n",
        "    - [Definición](#toc1_3_1_)    \n",
        "    - [Ejercicio Práctico](#toc1_3_2_)    \n",
        "  - [Clase Abstracta vs Interfaz](#toc1_4_)    \n",
        "  - [Conclusión](#toc1_5_)    \n",
        "  - [Ejercicio Práctico](#toc1_6_)    \n",
        "      - [Instrucciones](#toc1_6_1_1_)    \n",
        "  - [Referencias](#toc1_7_)    \n",
        "      - [Guías y Tutoriales](#toc1_7_1_1_)    \n",
        "      - [Libros](#toc1_7_1_2_)    \n",
        "      - [Repositorios](#toc1_7_1_3_)    \n",
        "      - [Videos](#toc1_7_1_4_)    \n",
        "\n",
        "<!-- vscode-jupyter-toc-config\n",
        "\tnumbering=false\n",
        "\tanchor=true\n",
        "\tflat=false\n",
        "\tminLevel=1\n",
        "\tmaxLevel=6\n",
        "\t/vscode-jupyter-toc-config -->\n",
        "<!-- THIS CELL WILL BE REPLACED ON TOC UPDATE. DO NOT WRITE YOUR TEXT IN THIS CELL -->\n",
        "\n",
        "\n",
        "---"
      ]
    },
    {
      "cell_type": "code",
      "execution_count": null,
      "metadata": {},
      "outputs": [],
      "source": [
        "%%sh\n",
        "# Install java kernel\n",
        "wget -q https://github.com/SpencerPark/IJava/releases/download/v1.3.0/ijava-1.3.0.zip\n",
        "unzip -q ijava-1.3.0.zip\n",
        "python install.py\n",
        "\n",
        "# Install proxy for the java kernel\n",
        "wget -qO- https://gist.github.com/SpencerPark/e2732061ad19c1afa4a33a58cb8f18a9/archive/b6cff2bf09b6832344e576ea1e4731f0fb3df10c.tar.gz | tar xvz --strip-components=1\n",
        "python install_ipc_proxy_kernel.py --kernel=java --implementation=ipc_proxy_kernel.py"
      ]
    },
    {
      "cell_type": "markdown",
      "metadata": {},
      "source": [
        "<a href=\"https://colab.research.google.com/github/uETITC/ProgrammingII-2024-2/blob/main/Lessons/3. OOP_Fundamentals_II.ipynb\" target=\"_parent\"><img src=\"https://colab.research.google.com/assets/colab-badge.svg\" alt=\"Open In Colab\"/></a>\n",
        "\n",
        "## <a id='toc1_1_'></a>[Objetivo](#toc0_)\n",
        "\n",
        "Proporcionar a los estudiantes una comprensión sólida de los conceptos de objetos, interfaces y clases abstractas en Java. Los estudiantes aprenderán cómo utilizar estos elementos para diseñar software modular, flexible y mantenible. Al finalizar, los estudiantes serán capaces de diferenciar entre clases concretas, abstractas e interfaces, y aplicarlos en la creación de aplicaciones Java.\n",
        "\n"
      ]
    },
    {
      "cell_type": "markdown",
      "metadata": {},
      "source": [
        "## <a id='toc1_2_'></a>[Clases Abstractas en Java](#toc0_)\n",
        "\n",
        ">Una clase abstracta no puede utilizarse para crear objetos. Una clase abstracta puede contener métodos abstractos que se implementan en subclases concretas.\n",
        "\n",
        "Las clases abstractas en Java son clases que no pueden ser instanciadas directamente y están diseñadas para ser extendidas por otras clases. Estas clases pueden contener tanto métodos abstractos (sin implementación) como métodos concretos (con implementación). Las clases abstractas permiten la creación de una jerarquía de clases con comportamiento común.\n",
        "\n",
        "### <a id='toc1_2_1_'></a>[Definición](#toc0_)\n",
        "  - Una clase abstracta se define utilizando la palabra clave `abstract`.\n",
        "  - Las clases hijas deben proporcionar la implementación de todos los métodos abstractos de la clase padre.\n"
      ]
    },
    {
      "cell_type": "code",
      "execution_count": 7,
      "metadata": {},
      "outputs": [],
      "source": [
        "abstract class Animal {\n",
        "  String name;\n",
        "  abstract void hacerSonido(); // Método abstracto\n",
        "  \n",
        "  public void dormir() {\n",
        "      System.out.println(\"El animal está durmiendo.\");\n",
        "  }\n",
        "}\n",
        "\n",
        "class Perro extends Animal {\n",
        "  public void hacerSonido() {\n",
        "      System.out.println(\"El perro ladra.\");\n",
        "  }\n",
        "}\n",
        "\n",
        "public class TestAnimal {\n",
        "  public static void main(String[] args) {\n",
        "      Animal perro = new Perro();\n",
        "      perro.hacerSonido();\n",
        "      perro.dormir();\n",
        "  }\n",
        "}\n",
        "\n",
        "// Agregue aquí su código"
      ]
    },
    {
      "cell_type": "code",
      "execution_count": 2,
      "metadata": {},
      "outputs": [
        {
          "ename": "CompilationException",
          "evalue": "",
          "output_type": "error",
          "traceback": [
            "\u001b[1m\u001b[30m|   \u001b[1m\u001b[30mAnimal animal = \u001b[0m\u001b[1m\u001b[30m\u001b[41mnew Animal()\u001b[0m\u001b[1m\u001b[30m;\u001b[0m",
            "\u001b[1m\u001b[31mAnimal is abstract; cannot be instantiated\u001b[0m",
            ""
          ]
        }
      ],
      "source": [
        "Animal animal = new Animal()"
      ]
    },
    {
      "cell_type": "markdown",
      "metadata": {},
      "source": [
        "### <a id='toc1_2_2_'></a>[Ejercicio Práctico](#toc0_)\n",
        "  - Crear una clase abstracta `Figura` con un método abstracto `calcularArea`.\n",
        "  - Extender la clase abstracta con las clases `Circulo` y `Rectangulo`, proporcionando la implementación de `calcularArea` y `calcularPerimetro`.\n",
        "  - Instanciar objetos de `Circulo`, `Rectangulo`, `Triangulo`, y otro de gusto. Además, calcular sus áreas."
      ]
    },
    {
      "cell_type": "code",
      "execution_count": null,
      "metadata": {},
      "outputs": [],
      "source": [
        "// Agregue aquí su código"
      ]
    },
    {
      "cell_type": "markdown",
      "metadata": {},
      "source": [
        "## <a id='toc1_3_'></a>[Interfaces en Java](#toc0_)\n",
        "\n",
        ">Una interfaz es una construcción similar a una clase para definir operaciones comunes para objetos.\n",
        "\n",
        "Las interfaces en Java son contratos que definen un conjunto de métodos que una clase debe implementar. A diferencia de las clases, las interfaces no pueden contener implementación de métodos (antes de Java 8) y no pueden tener atributos no finales. Son utilizadas para asegurar que una clase cumple con ciertos requisitos de comportamiento, independientemente de la jerarquía de herencia.\n",
        "\n",
        "### <a id='toc1_3_1_'></a>[Definición](#toc0_)\n",
        "  - Una interfaz se define utilizando la palabra clave `interface`.\n",
        "  - Las clases que implementan una interfaz deben proporcionar la implementación concreta de todos sus métodos."
      ]
    },
    {
      "cell_type": "code",
      "execution_count": 19,
      "metadata": {},
      "outputs": [
        {
          "name": "stdout",
          "output_type": "stream",
          "text": [
            "El pájaro está volando.Voladora\n"
          ]
        }
      ],
      "source": [
        "interface Volador {\n",
        "  public String name = \"Volador\";\n",
        "  void volar(); // Método abstracto\n",
        "}\n",
        "\n",
        "class Pajaro implements Volador {\n",
        "  public void volar() {\n",
        "      System.out.println(\"El pájaro está volando.\"+ name);\n",
        "  }\n",
        "}\n",
        "\n",
        "public class Main {\n",
        "  public static void main(String[] args) {\n",
        "      Volador pajaro = new Pajaro();\n",
        "      pajaro.volar();\n",
        "      //pajaro.name;\n",
        "  }\n",
        "}\n",
        "\n",
        "// Agregue aquí su código\n",
        "Main main = new Main();\n",
        "main.main(new String[] {});"
      ]
    },
    {
      "cell_type": "code",
      "execution_count": 5,
      "metadata": {},
      "outputs": [
        {
          "ename": "CompilationException",
          "evalue": "",
          "output_type": "error",
          "traceback": [
            "\u001b[1m\u001b[30m|   \u001b[1m\u001b[30mVolador vol = \u001b[0m\u001b[1m\u001b[30m\u001b[41mnew Volador()\u001b[0m\u001b[1m\u001b[30m;\u001b[0m",
            "\u001b[1m\u001b[31mVolador is abstract; cannot be instantiated\u001b[0m",
            ""
          ]
        }
      ],
      "source": [
        "Volador vol = new Volador()"
      ]
    },
    {
      "cell_type": "markdown",
      "metadata": {},
      "source": [
        "### <a id='toc1_3_2_'></a>[Ejercicio Práctico](#toc0_)\n",
        "\n",
        "- Crear una interfaz `Comible` con un método `comer`.\n",
        "- Implementar la interfaz en una clase `Ensalada`, `Pasta`, etc.\n",
        "- Crear un objeto de `Ensalada` y demostrar el uso de la interfaz `Comible`."
      ]
    },
    {
      "cell_type": "code",
      "execution_count": null,
      "metadata": {},
      "outputs": [],
      "source": [
        "// Agregue aquí su código\n"
      ]
    },
    {
      "cell_type": "markdown",
      "metadata": {},
      "source": [
        "## <a id='toc1_4_'></a>[Clase Abstracta vs Interfaz](#toc0_)\n",
        "\n",
        "Las clases abstractas son similares a las interfaces. No se pueden instanciar y pueden contener una mezcla de métodos declarados con o sin implementación. Sin embargo, con las clases abstractas puedes declarar campos que no sean static y final, y definir métodos concretos públicos, protegidos y privados. Con las interfaces, todos los campos son automáticamente públicos, estáticos y finales, y todos los métodos que declares o definas (como métodos por defecto) son públicos. Además, sólo puedes extender una clase, sea abstracta o no, mientras que puedes implementar cualquier número de interfaces.\n",
        "\n",
        "¿Qué debe utilizar, clases abstractas o interfaces?\n",
        "\n",
        "- Considere el uso de clases abstractas si alguna de estas afirmaciones se aplica a su situación:\n",
        "    - Desea compartir código entre varias clases estrechamente relacionadas.\n",
        "    - Esperas que las clases que extienden tu clase abstracta tengan muchos métodos o campos comunes, o requieran modificadores de acceso distintos de public (como protected y private).\n",
        "    - Desea declarar campos no estáticos o no finales. Esto le permite definir métodos que pueden acceder y modificar el estado del objeto al que pertenecen.\n",
        "- Considere la posibilidad de utilizar interfaces si alguna de estas afirmaciones se aplica a su situación:\n",
        "    - Espera que clases no relacionadas implementen su interfaz. Por ejemplo, las interfaces Comparable y Clonable son implementadas por muchas clases no relacionadas.\n",
        "    - Desea especificar el comportamiento de un tipo de datos concreto, pero no le preocupa quién implementa su comportamiento.\n",
        "    - Desea aprovechar las ventajas de la herencia múltiple de tipo.\n",
        "\n",
        "Tomado de [Abstract Methods and Classes](https://docs.oracle.com/javase/tutorial/java/IandI/abstract.html).\n",
        "\n",
        "<div align=\"center\">\n",
        "<img src=\"https://blogger.googleusercontent.com/img/b/R29vZ2xl/AVvXsEipR6QxqBdNIgDYt6dk9k-FxDvWr-1Jje2qpnd7aWIdwda_QUpJf2rtxFlP3KVIjqoD_jMcyuA4B8IvL50iib1E7MYQQotIwwqfwaEyWkA6ks2U6JFE-rusytxAxrRA_HINc1tRus21Fe0/w483-h273/interfaces_vs_abstract_Class_Java.png\" width=50%>\n",
        "</div>\n",
        "\n",
        "[Difference between Abstract class and Interface in Java 8? Answer ](https://www.java67.com/2017/08/difference-between-abstract-class-and-interface-in-java8.html)\n",
        "\n",
        "<div align=\"center\">\n",
        "<img src=\"./images/abstractvsinterface.png\" width=80%>\n",
        "</div>\n",
        "\n",
        "[Why not override instead of using abstract class?](https://stackoverflow.com/questions/20790360/why-not-override-instead-of-using-abstract-class)"
      ]
    },
    {
      "cell_type": "code",
      "execution_count": null,
      "metadata": {},
      "outputs": [],
      "source": [
        "abstract class "
      ]
    },
    {
      "cell_type": "markdown",
      "metadata": {},
      "source": [
        "Se pueden extender  "
      ]
    },
    {
      "cell_type": "markdown",
      "metadata": {},
      "source": [
        "## <a id='toc1_5_'></a>[Conclusión](#toc0_)\n",
        "\n",
        "En esta clase, hemos explorado tres conceptos fundamentales en Java: objetos, interfaces y clases abstractas. Cada uno de estos elementos juega un papel crucial en la programación orientada a objetos, permitiendo la creación de software más modular y adaptable. Los objetos encapsulan datos y comportamientos, las interfaces permiten definir contratos de comportamiento, y las clases abstractas proporcionan una estructura común para diferentes implementaciones. Comprender y aplicar correctamente estos conceptos es esencial para cualquier desarrollador de Java que busque crear aplicaciones robustas y escalables.\n",
        "\n",
        "## <a id='toc1_6_'></a>[Ejercicio Práctico](#toc0_)\n",
        "\n",
        "\n",
        "Diseñar un sistema de gestión para una librería utilizando objetos, interfaces y clases abstractas en Java.\n",
        "\n",
        "#### <a id='toc1_6_1_1_'></a>[Instrucciones](#toc0_)\n",
        "1. Crear una interfaz `GestiónProducto` con métodos como `vender` y `mostrarDetalles`.\n",
        "2. Crear una clase abstracta `Producto` que implemente la interfaz y añada un método abstracto `calcularPrecio`.\n",
        "3. Extender `Producto` en clases concretas como `Libro`, `Revista`, y `CD`, implementando los métodos abstractos y específicos para cada tipo de producto.\n",
        "4. Crear un programa principal donde se instancien los objetos y se demuestren sus comportamientos, como vender productos y mostrar sus detalles.\n",
        "\n",
        "**Entregables:**\n",
        "- Código fuente en Java que implementa el sistema de gestión de la librería.\n"
      ]
    },
    {
      "cell_type": "code",
      "execution_count": null,
      "metadata": {},
      "outputs": [],
      "source": [
        "// Agregue aquí su código\n"
      ]
    },
    {
      "cell_type": "markdown",
      "metadata": {},
      "source": [
        "## <a id='toc1_7_'></a>[Referencias](#toc0_)\n",
        "\n",
        "#### <a id='toc1_7_1_1_'></a>[Guías y Tutoriales](#toc0_)\n",
        "  - [Abstract Classes in Java](https://www.baeldung.com/java-abstract-class)\n",
        "  - [Abstract class in Java](https://www.javatpoint.com/abstract-class-in-java)\n",
        "  - [Abstract class in Java](https://stackoverflow.com/questions/1320745/abstract-class-in-java)\n",
        "  - [How should I have explained the difference between an Interface and an Abstract class? [closed]](https://stackoverflow.com/questions/18777989/how-should-i-have-explained-the-difference-between-an-interface-and-an-abstract)\n",
        "  - [Using an Interface vs. Abstract Class in Java](https://www.baeldung.com/java-interface-vs-abstract-class)\n",
        "  - [Difference between Abstract Class and Interface in Java](https://www.digitalocean.com/community/tutorials/difference-between-abstract-class-and-interface-in-java)\n",
        "  - [Difference between abstract class and interface](https://www.javatpoint.com/difference-between-abstract-class-and-interface)\n",
        "\n",
        "#### <a id='toc1_7_1_2_'></a>[Libros](#toc0_)\n",
        "\n",
        "- Y. Daniel Liang. *\"Introduction to Java Programming and Data Structures, Comprehensive Version\"*. Addison Wesley. Edición 12 (2019). Capítulo 13.\n",
        "- Koffman, Elliot B.; Wolfgang, Paul A. T.\"*Data structures : abstraction and design using Java\"*. Wiley. Tercera edición (2016). Capítulo 2.5, página 101.\n",
        "\n",
        "\n",
        "#### <a id='toc1_7_1_3_'></a>[Repositorios](#toc0_)\n",
        "\n",
        "- [Intro-to-Java-Programming](https://github.com/jsquared21/Intro-to-Java-Programming)\n",
        "- [Source Code - Introduction to Java Programming and Data Structures, Comprehensive Version, 12th Edition](https://media.pearsoncmg.com/ph/esm/ecs_liang_ijp_12/cw/content/source-code.php)\n",
        "\n",
        "\n",
        "#### <a id='toc1_7_1_4_'></a>[Videos](#toc0_)\n",
        "\n",
        "- [Abstract Classes and Methods in Java Explained in 7 Minutes ](https://www.youtube.com/watch?v=HvPlEJ3LHgE)"
      ]
    }
  ],
  "metadata": {
    "colab": {
      "provenance": []
    },
    "kernelspec": {
      "display_name": "Java",
      "language": "java",
      "name": "java"
    },
    "language_info": {
      "codemirror_mode": "java",
      "file_extension": ".jshell",
      "mimetype": "text/x-java-source",
      "name": "java",
      "pygments_lexer": "java",
      "version": "21.0.4+7-Ubuntu-1ubuntu224.04"
    }
  },
  "nbformat": 4,
  "nbformat_minor": 0
}
